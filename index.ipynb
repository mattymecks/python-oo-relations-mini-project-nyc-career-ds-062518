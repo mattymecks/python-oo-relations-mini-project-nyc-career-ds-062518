{
 "cells": [
  {
   "cell_type": "markdown",
   "metadata": {},
   "source": [
    "# Python - Object Relationships Project"
   ]
  },
  {
   "cell_type": "markdown",
   "metadata": {},
   "source": [
    "## Introduction\n",
    "In this lab we are going to practice object relationships in Python with an emphasis on has-many-through relationships. We will be building out a domain model for Guests, Invites, Dinner Parties, Courses, Recipes, and Reviews. A guest will have a collection of invites, which will relate a guest to a dinner party, thus creating the has many through relationship between a user and a dinner party. Just like any good dinner party there will be more than just one thing to eat, which means that a dinner party will have a collection of courses. Since not all courses will be unique across all dinner parties, a recipe will have also have many courses. A recipe also has many reviews, which are given directly by guests, so, guests will also have many reviews as well.\n",
    "\n",
    "Read through the deliverables below to begin building out these six classes and to figure out additional information about their relationships. \n",
    "> **Note:** You may not be able to build out all methods until you have set up relationships between the classes, so it is normal to jump around a bit in the building process. If you are confused about how the models below relate to each other, it may help to draw this out on a whiteboard before beginning to code."
   ]
  },
  {
   "cell_type": "markdown",
   "metadata": {},
   "source": [
    "## Objectives\n",
    "* Define classes according to their approproate relationships\n",
    "* Create instance and class methods that leverage the has many through relationships"
   ]
  },
  {
   "cell_type": "markdown",
   "metadata": {},
   "source": [
    "### Guest\n",
    "\n",
    "\n",
    "**Class Methods:**\n",
    "* DONE `Guest.all()` returns a list of all guest instances\n",
    "* DONE`Guest.most_popular()` returns the guest invited to the most dinner parties\n",
    "* `Guest.toughest_critic()` returns the guest with lowest average rating for recipe reviews\n",
    "* `Guest.most_active_critic()` returns the guest with most recipe reviews\n",
    "\n",
    "**Instance Methods:**\n",
    "* DONE`guest.invites()` returns a list of all of the guest's invites\n",
    "* DONE`guest.reviews()` returns a list of all of the guest's reviews\n",
    "* DONE`guest.number_of_invites()` returns the number of dinner party invites a guest has recieved \n",
    "* DONE`guest.rsvp(invite, rsvp_status)` takes in a boolean value (True or False) and updates a guest's rsvp status. It should return the rsvp_status status\n",
    "* `guest.review_recipe(recipe, rating, comment)` adds a guest's review with a rating and comment to a recipe. Returns the given recipe's reviews\n",
    "* `guest.favorite_recipe()` returns the given guest's favorite recipe"
   ]
  },
  {
   "cell_type": "markdown",
   "metadata": {},
   "source": [
    "### DONE Invite\n",
    "**Class Methods:**\n",
    "* DONE`Invite.all()` returns a list of all invite instances\n",
    "\n",
    "**Instance Methods:**\n",
    "* `invite.accepted` returns a boolean value (true or false) for whether the the guest accepted the invite or not\n",
    " * DONE`invite.guest` returns the given invite's guest instance\n",
    " * DONE`invite.dinner_party` returns the given invite's dinner party instance"
   ]
  },
  {
   "cell_type": "markdown",
   "metadata": {},
   "source": [
    "### DinnerParty\n",
    "**Class Methods:**\n",
    "* DONE `DinnerParty.all()` returns a list of all dinner party instances\n",
    "\n",
    "**Instance Methods:**\n",
    "* DONE`dinner_party.invites()` returns a list of all of invites handed out for the party\n",
    "* DONE`dinner_party.guests()` returns a list of the party's guests\n",
    "* DONE`dinner_party.number_of_attendees()` returns the number of guests who accepted their invite for the dinner party\n",
    "* DONE`dinner_party.courses()` returns a list of the party's courses\n",
    "* DONE`dinner_party.recipes()` returns a list of all the recipes for the courses featured at the given dinner party\n",
    "* DONE`dinner_party.recipe_count()` returns the number of recipes for the given dinner party\n",
    "* DONE`dinner_party.reviews()` returns a list of reviews for the recipes of a given dinner party\n",
    "* `dinner_party.highest_rated_recipe()` returns the highest rated recipe for the given dinner party"
   ]
  },
  {
   "cell_type": "markdown",
   "metadata": {},
   "source": [
    "### DONE Course\n",
    "**Class Methods:**\n",
    "* `Course.all()` returns a list of all course instances\n",
    "\n",
    "**Instance Methods:**\n",
    "* `course.dinner_party` returns the dinner party instance for the given course\n",
    "* `course.recipe` returns the recpipe instance for the given course"
   ]
  },
  {
   "cell_type": "markdown",
   "metadata": {},
   "source": [
    "### DONE Review\n",
    "**Class Methods:**\n",
    "* `Review.all()` returns a list of all invite instances\n",
    "\n",
    "**Instance Methods:**\n",
    "* `review.rating` returns the given review's rating\n",
    "* `review.recipe` returns the given review's recipe\n",
    "* `review.reviewer` returns the given review's reviewer (guest instance)\n",
    "* `review.comment` returns the given review's comment, if there is one"
   ]
  },
  {
   "cell_type": "markdown",
   "metadata": {},
   "source": [
    "### Recipe\n",
    "**Class Methods:**\n",
    "* DONE`Recipe.all()` returns a list of all invite instances\n",
    "* `Recipe.top_three()` returns a list with the three recipe instances with the highest average rating\n",
    "* `Recipe.bottom_three()` returns a list with the three recipe instances with the lowest average rating\n",
    "\n",
    "**Instance Methods:**\n",
    "* `recipe.reviews()` returns a list of reviews for the given recipe\n",
    "* `recipe.top_five_reviews()` returns a list with the five review instances with the highest rating for the given recipe"
   ]
  },
  {
   "cell_type": "markdown",
   "metadata": {},
   "source": [
    "## Summary\n"
   ]
  },
  {
   "cell_type": "markdown",
   "metadata": {},
   "source": [
    "Great work! In this lab we created a pretty complex domain model and defined some neat class and instance methods to leverage these has many through relationships. We could see that without these relationships, meaning without a review linking a recipe and a guest, it would become very difficult to organize our information and query it accurately like we do in a class method that gives us the top or bottom three recipes. "
   ]
  },
  {
   "cell_type": "code",
   "execution_count": 1,
   "metadata": {},
   "outputs": [
    {
     "data": {
      "text/plain": [
       "[24, 24, 25, 26, 27, 28]"
      ]
     },
     "execution_count": 1,
     "metadata": {},
     "output_type": "execute_result"
    }
   ],
   "source": [
    "class Test:\n",
    "    \n",
    "    _all = []\n",
    "    \n",
    "    def __init__(self, name, age):\n",
    "        self._name = name\n",
    "        self._age = age\n",
    "        Test._all.append(self)\n",
    "    \n",
    "    @classmethod\n",
    "    def oldest(self):\n",
    "        ages_histo = {}\n",
    "        for person in Test._all:\n",
    "            ages_histo[person] = ages_histo.get(person, 0) + 1\n",
    "        age_list = []\n",
    "        for k in ages_histo:\n",
    "            age_list.append(k._age)\n",
    "        return age_list\n",
    "    \n",
    "person_1 = Test('Bob', 24)\n",
    "person_2 = Test('Sally', 24)\n",
    "person_3 = Test('Bill', 25)\n",
    "person_4 = Test('Susie', 26)\n",
    "person_5 = Test('Ben', 27)\n",
    "person_6 = Test('Sarah', 28)\n",
    "        \n",
    "    \n",
    "Test.oldest()"
   ]
  },
  {
   "cell_type": "code",
   "execution_count": 2,
   "metadata": {},
   "outputs": [],
   "source": [
    "from review import Review\n",
    "from invite import Invite\n",
    "from dinnerparty import DinnerParty\n",
    "from recipe import Recipe\n",
    "from guest import Guest\n",
    "from course import Course"
   ]
  },
  {
   "cell_type": "code",
   "execution_count": 3,
   "metadata": {},
   "outputs": [
    {
     "ename": "NameError",
     "evalue": "name 'recipe_1' is not defined",
     "output_type": "error",
     "traceback": [
      "\u001b[0;31m---------------------------------------------------------------------------\u001b[0m",
      "\u001b[0;31mNameError\u001b[0m                                 Traceback (most recent call last)",
      "\u001b[0;32m<ipython-input-3-99c2e7bbb671>\u001b[0m in \u001b[0;36m<module>\u001b[0;34m()\u001b[0m\n\u001b[0;32m----> 1\u001b[0;31m \u001b[0mrecipe_1\u001b[0m\u001b[0;34m\u001b[0m\u001b[0m\n\u001b[0m\u001b[1;32m      2\u001b[0m \u001b[0mRecipe\u001b[0m\u001b[0;34m.\u001b[0m\u001b[0mrecipe_by_rating\u001b[0m\u001b[0;34m(\u001b[0m\u001b[0;34m)\u001b[0m\u001b[0;34m\u001b[0m\u001b[0m\n",
      "\u001b[0;31mNameError\u001b[0m: name 'recipe_1' is not defined"
     ]
    }
   ],
   "source": [
    "recipe_1 = Recipe('Banana')\n",
    "Recipe.recipe_by_rating()"
   ]
  },
  {
   "cell_type": "code",
   "execution_count": null,
   "metadata": {},
   "outputs": [],
   "source": []
  }
 ],
 "metadata": {
  "kernelspec": {
   "display_name": "Python 3",
   "language": "python",
   "name": "python3"
  },
  "language_info": {
   "codemirror_mode": {
    "name": "ipython",
    "version": 3
   },
   "file_extension": ".py",
   "mimetype": "text/x-python",
   "name": "python",
   "nbconvert_exporter": "python",
   "pygments_lexer": "ipython3",
   "version": "3.6.5"
  }
 },
 "nbformat": 4,
 "nbformat_minor": 2
}
